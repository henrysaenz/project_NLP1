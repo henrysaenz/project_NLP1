{
 "cells": [
  {
   "cell_type": "markdown",
   "id": "4a35ccdf",
   "metadata": {},
   "source": [
    "# LSTM para análisis de sentimiento en texto"
   ]
  },
  {
   "cell_type": "markdown",
   "id": "c33d4678",
   "metadata": {},
   "source": [
    "Exoplicar el modelo y la arquitectura"
   ]
  },
  {
   "cell_type": "markdown",
   "id": "281c2772",
   "metadata": {},
   "source": [
    "#### Librerías y paquetes"
   ]
  },
  {
   "cell_type": "code",
   "execution_count": 1,
   "id": "a2b7ed02",
   "metadata": {},
   "outputs": [],
   "source": [
    "import pandas as pd\n",
    "import numpy as np"
   ]
  },
  {
   "cell_type": "markdown",
   "id": "1687fe49",
   "metadata": {},
   "source": []
  }
 ],
 "metadata": {
  "kernelspec": {
   "display_name": "dl_venv",
   "language": "python",
   "name": "python3"
  },
  "language_info": {
   "codemirror_mode": {
    "name": "ipython",
    "version": 3
   },
   "file_extension": ".py",
   "mimetype": "text/x-python",
   "name": "python",
   "nbconvert_exporter": "python",
   "pygments_lexer": "ipython3",
   "version": "3.9.21"
  }
 },
 "nbformat": 4,
 "nbformat_minor": 5
}
